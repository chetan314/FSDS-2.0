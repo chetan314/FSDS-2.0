{
 "cells": [
  {
   "attachments": {},
   "cell_type": "markdown",
   "metadata": {},
   "source": [
    "## Programming Assignment 8"
   ]
  },
  {
   "cell_type": "code",
   "execution_count": 1,
   "metadata": {},
   "outputs": [],
   "source": [
    "import numpy as np "
   ]
  },
  {
   "attachments": {},
   "cell_type": "markdown",
   "metadata": {},
   "source": [
    "1. Write a Python Program to Add Two Matrices?"
   ]
  },
  {
   "cell_type": "code",
   "execution_count": 4,
   "metadata": {},
   "outputs": [
    {
     "name": "stdout",
     "output_type": "stream",
     "text": [
      "[[11 13 15]\n",
      " [17 19 21]\n",
      " [23 25 27]]\n",
      "operands could not be broadcast together with shapes (2,3) (3,2) \n"
     ]
    }
   ],
   "source": [
    "def add_matrices(a,b):\n",
    "    a = np.array(a)\n",
    "    b = np.array(b) \n",
    "    try :\n",
    "        return np.add(a,b)\n",
    "    except Exception as e :\n",
    "        return e \n",
    "array1 = [[1, 2, 3],\n",
    "          [4, 5, 6],\n",
    "          [7, 8, 9]]\n",
    "\n",
    "array2 = [[10, 11, 12],\n",
    "          [13, 14, 15],\n",
    "          [16, 17, 18]]\n",
    "print(add_matrices(array1,array2))\n",
    "array1 = [[1, 2, 3],\n",
    "          [4, 5, 6]]\n",
    "\n",
    "array2 = [[7, 8],\n",
    "          [9, 10],\n",
    "          [11, 12]]\n",
    "print(add_matrices(array1,array2))"
   ]
  },
  {
   "attachments": {},
   "cell_type": "markdown",
   "metadata": {},
   "source": [
    "2. Write a Python Program to Multiply Two Matrices?"
   ]
  },
  {
   "cell_type": "code",
   "execution_count": 10,
   "metadata": {},
   "outputs": [
    {
     "name": "stdout",
     "output_type": "stream",
     "text": [
      "[[ 84  90  96]\n",
      " [201 216 231]\n",
      " [318 342 366]]\n",
      "matmul: Input operand 1 has a mismatch in its core dimension 0, with gufunc signature (n?,k),(k,m?)->(n?,m?) (size 4 is different from 3)\n"
     ]
    }
   ],
   "source": [
    "def mul_matrices(a,b):\n",
    "    a = np.array(a)\n",
    "    b = np.array(b) \n",
    "    try :\n",
    "        return np.matmul(a,b)\n",
    "    except Exception as e :\n",
    "        return e \n",
    "array1 = [[1, 2, 3],\n",
    "          [4, 5, 6],\n",
    "          [7, 8, 9]]\n",
    "\n",
    "array2 = [[10, 11, 12],\n",
    "          [13, 14, 15],\n",
    "          [16, 17, 18]]\n",
    "print(mul_matrices(array1,array2))\n",
    "array1 = [[1, 2, 3],\n",
    "          [4, 5, 6]]\n",
    "array2 = [[7, 8],\n",
    "          [9, 10],\n",
    "          [11, 12],\n",
    "          [3,2]]\n",
    "print(mul_matrices(array1,array2))"
   ]
  },
  {
   "attachments": {},
   "cell_type": "markdown",
   "metadata": {},
   "source": [
    "3. Write a Python Program to Transpose a Matrix?"
   ]
  },
  {
   "cell_type": "code",
   "execution_count": 12,
   "metadata": {},
   "outputs": [
    {
     "data": {
      "text/plain": [
       "array([[1, 4],\n",
       "       [2, 5],\n",
       "       [3, 6]])"
      ]
     },
     "execution_count": 12,
     "metadata": {},
     "output_type": "execute_result"
    }
   ],
   "source": [
    "array1 = [[1, 2, 3],\n",
    "          [4, 5, 6]]\n",
    "array1 = np.transpose(np.array(array1))\n",
    "array1 "
   ]
  },
  {
   "attachments": {},
   "cell_type": "markdown",
   "metadata": {},
   "source": [
    "4. Write a Python Program to Sort Words in Alphabetic Order?"
   ]
  },
  {
   "cell_type": "code",
   "execution_count": 13,
   "metadata": {},
   "outputs": [
    {
     "name": "stdout",
     "output_type": "stream",
     "text": [
      "['apple', 'banana', 'cherry', 'date']\n"
     ]
    }
   ],
   "source": [
    "words = ['apple', 'banana', 'cherry', 'date']\n",
    "\n",
    "# Sort the words in alphabetical order\n",
    "words.sort()\n",
    "\n",
    "print(words)\n"
   ]
  },
  {
   "attachments": {},
   "cell_type": "markdown",
   "metadata": {},
   "source": [
    "5. Write a Python Program to Remove Punctuation From a String?"
   ]
  },
  {
   "cell_type": "code",
   "execution_count": 25,
   "metadata": {},
   "outputs": [
    {
     "name": "stdout",
     "output_type": "stream",
     "text": [
      "TFDGHehsgWRU\n"
     ]
    }
   ],
   "source": [
    "import string\n",
    "\n",
    "# The string to be cleaned\n",
    "s = '!@$#%^TFDGHehsgWRU$%%'\n",
    "\n",
    "# Use a list comprehension to remove all punctuation from the string\n",
    "cleaned = ''.join(c for c in s if c not in string.punctuation)\n",
    "\n",
    "print(cleaned)\n",
    "\n",
    "\n"
   ]
  },
  {
   "cell_type": "code",
   "execution_count": null,
   "metadata": {},
   "outputs": [],
   "source": []
  }
 ],
 "metadata": {
  "kernelspec": {
   "display_name": "Python 3",
   "language": "python",
   "name": "python3"
  },
  "language_info": {
   "codemirror_mode": {
    "name": "ipython",
    "version": 3
   },
   "file_extension": ".py",
   "mimetype": "text/x-python",
   "name": "python",
   "nbconvert_exporter": "python",
   "pygments_lexer": "ipython3",
   "version": "3.10.5"
  },
  "orig_nbformat": 4,
  "vscode": {
   "interpreter": {
    "hash": "aee8b7b246df8f9039afb4144a1f6fd8d2ca17a180786b69acc140d282b71a49"
   }
  }
 },
 "nbformat": 4,
 "nbformat_minor": 2
}
