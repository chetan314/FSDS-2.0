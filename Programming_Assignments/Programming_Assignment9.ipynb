{
 "cells": [
  {
   "attachments": {},
   "cell_type": "markdown",
   "metadata": {},
   "source": [
    "## Programming Assignment 9 "
   ]
  },
  {
   "attachments": {},
   "cell_type": "markdown",
   "metadata": {},
   "source": [
    "1. Write a Python program to check if the given number is a Disarium Number?"
   ]
  },
  {
   "cell_type": "code",
   "execution_count": 14,
   "metadata": {},
   "outputs": [
    {
     "name": "stdout",
     "output_type": "stream",
     "text": [
      "False\n",
      "True\n"
     ]
    }
   ],
   "source": [
    "def is_disarium(n):\n",
    "    \"\"\"Check if a number is a disarium or not\"\"\"\n",
    "    number = n\n",
    "    l = []\n",
    "    sum = 0\n",
    "    while n!= 0:\n",
    "        l.append(n%10)\n",
    "        n = n //10 \n",
    "    l = l[::-1]\n",
    "    for num in l :\n",
    "        sum += num**(l.index(num)+1)\n",
    "    \n",
    "   \n",
    "    if number == sum:\n",
    "        return True\n",
    "    else :\n",
    "        return False\n",
    "print(is_disarium(123))\n",
    "print(is_disarium(175))"
   ]
  },
  {
   "attachments": {},
   "cell_type": "markdown",
   "metadata": {},
   "source": [
    "2. Write a Python program to print all disarium numbers between 1 to 100?"
   ]
  },
  {
   "cell_type": "code",
   "execution_count": 15,
   "metadata": {},
   "outputs": [
    {
     "data": {
      "text/plain": [
       "[1, 2, 3, 4, 5, 6, 7, 8, 9, 89]"
      ]
     },
     "execution_count": 15,
     "metadata": {},
     "output_type": "execute_result"
    }
   ],
   "source": [
    "list(filter(is_disarium,[i for i in range(1,101)]))"
   ]
  },
  {
   "attachments": {},
   "cell_type": "markdown",
   "metadata": {},
   "source": [
    "3. Write a Python program to check if the given number is Happy Number?"
   ]
  },
  {
   "cell_type": "code",
   "execution_count": 19,
   "metadata": {},
   "outputs": [
    {
     "name": "stdout",
     "output_type": "stream",
     "text": [
      "False\n",
      "True\n"
     ]
    }
   ],
   "source": [
    "def is_happy(n):\n",
    "    \"\"\"Function to check if a number is a happy number\n",
    "\n",
    "    Args:\n",
    "        n (int): _description_\n",
    "    \"\"\"\n",
    "    x = n \n",
    "    while x>= 10:\n",
    "        sum = 0 \n",
    "        while x > 0:\n",
    "            r = x%10 \n",
    "            sum += r**2 \n",
    "            x = x//10 \n",
    "        x = sum \n",
    "    if x == 1 : \n",
    "        return True \n",
    "    else :\n",
    "        return False \n",
    "print(is_happy(7))\n",
    "print(is_happy(19))"
   ]
  },
  {
   "attachments": {},
   "cell_type": "markdown",
   "metadata": {},
   "source": [
    "4. Write a Python program to print all happy numbers between 1 and 100?"
   ]
  },
  {
   "cell_type": "code",
   "execution_count": 20,
   "metadata": {},
   "outputs": [
    {
     "data": {
      "text/plain": [
       "[1, 10, 13, 19, 23, 28, 31, 32, 44, 49, 68, 70, 79, 82, 86, 91, 94, 97, 100]"
      ]
     },
     "execution_count": 20,
     "metadata": {},
     "output_type": "execute_result"
    }
   ],
   "source": [
    "list(filter(is_happy, [i for i in range(1,101)]))"
   ]
  },
  {
   "attachments": {},
   "cell_type": "markdown",
   "metadata": {},
   "source": [
    "5. Write a Python program to determine whether the given number is a Harshad Number?"
   ]
  },
  {
   "cell_type": "code",
   "execution_count": 21,
   "metadata": {},
   "outputs": [
    {
     "name": "stdout",
     "output_type": "stream",
     "text": [
      "True\n",
      "False\n"
     ]
    }
   ],
   "source": [
    "def is_harshad(n):\n",
    "    num = n\n",
    "    l = []\n",
    "    while n!= 0 :\n",
    "        l.append(n%10)\n",
    "        n = n//10\n",
    "    s = sum(l)\n",
    "    if num%s == 0 : \n",
    "        return True \n",
    "    else :\n",
    "        return False\n",
    "print(is_harshad(171))\n",
    "print(is_harshad(352))"
   ]
  },
  {
   "attachments": {},
   "cell_type": "markdown",
   "metadata": {},
   "source": [
    "6. Write a Python program to print all pronic numbers between 1 and 100?"
   ]
  },
  {
   "cell_type": "code",
   "execution_count": 30,
   "metadata": {},
   "outputs": [
    {
     "data": {
      "text/plain": [
       "[2, 6, 12, 20, 30, 42, 56, 72, 90]"
      ]
     },
     "execution_count": 30,
     "metadata": {},
     "output_type": "execute_result"
    }
   ],
   "source": [
    "def is_pronic(n):\n",
    "    \"\"\" Program to check whether  the number is pronic or not.\n",
    "\n",
    "    Args:\n",
    "        n (int): _description_\n",
    "    \"\"\"\n",
    "    i = 0\n",
    "    while i <= n**0.5:\n",
    "        if i*(i+1) == n :\n",
    "            return True \n",
    "        i += 1 \n",
    "    return False \n",
    "list(filter(is_pronic, [i for i in range(1,101)]))\n",
    "\n"
   ]
  },
  {
   "cell_type": "code",
   "execution_count": null,
   "metadata": {},
   "outputs": [],
   "source": []
  }
 ],
 "metadata": {
  "kernelspec": {
   "display_name": "Python 3",
   "language": "python",
   "name": "python3"
  },
  "language_info": {
   "codemirror_mode": {
    "name": "ipython",
    "version": 3
   },
   "file_extension": ".py",
   "mimetype": "text/x-python",
   "name": "python",
   "nbconvert_exporter": "python",
   "pygments_lexer": "ipython3",
   "version": "3.10.5"
  },
  "orig_nbformat": 4,
  "vscode": {
   "interpreter": {
    "hash": "aee8b7b246df8f9039afb4144a1f6fd8d2ca17a180786b69acc140d282b71a49"
   }
  }
 },
 "nbformat": 4,
 "nbformat_minor": 2
}
