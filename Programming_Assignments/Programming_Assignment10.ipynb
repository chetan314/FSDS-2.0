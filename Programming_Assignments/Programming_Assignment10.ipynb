{
 "cells": [
  {
   "attachments": {},
   "cell_type": "markdown",
   "metadata": {},
   "source": [
    "1. Write a Python program to find sum of elements in list?"
   ]
  },
  {
   "cell_type": "code",
   "execution_count": 1,
   "metadata": {},
   "outputs": [
    {
     "data": {
      "text/plain": [
       "1374"
      ]
     },
     "execution_count": 1,
     "metadata": {},
     "output_type": "execute_result"
    }
   ],
   "source": [
    "def find_sum(l):\n",
    "    sum = 0 \n",
    "    for i in l:\n",
    "        sum += i \n",
    "    return sum \n",
    "find_sum([4,25,1312,23,5,5])"
   ]
  },
  {
   "attachments": {},
   "cell_type": "markdown",
   "metadata": {},
   "source": [
    "2. Write a Python program to Multiply all numbers in the list?"
   ]
  },
  {
   "cell_type": "code",
   "execution_count": 2,
   "metadata": {},
   "outputs": [
    {
     "data": {
      "text/plain": [
       "75440000"
      ]
     },
     "execution_count": 2,
     "metadata": {},
     "output_type": "execute_result"
    }
   ],
   "source": [
    "def find_product(l):\n",
    "    p = 1\n",
    "    for i in l:\n",
    "        p = p*i\n",
    "    return p\n",
    "find_product([4,25,1312,23,5,5])"
   ]
  },
  {
   "attachments": {},
   "cell_type": "markdown",
   "metadata": {},
   "source": [
    "3. Write a Python program to find smallest number in a list?"
   ]
  },
  {
   "cell_type": "code",
   "execution_count": 6,
   "metadata": {},
   "outputs": [
    {
     "name": "stdout",
     "output_type": "stream",
     "text": [
      "The smallest number in the list is 1\n"
     ]
    }
   ],
   "source": [
    "def find_smallest_number(numbers):\n",
    "  # Set the initial value of the smallest number to the first element in the list\n",
    "  smallest = numbers[0]\n",
    "  \n",
    "  # Iterate over the rest of the elements in the list\n",
    "  for number in numbers[1:]:\n",
    "    # If the current number is smaller than the smallest number we've seen so far, update the value of smallest\n",
    "    if number < smallest:\n",
    "      smallest = number\n",
    "      \n",
    "  # Return the smallest number\n",
    "  return smallest\n",
    "\n",
    "# Test the function\n",
    "numbers = [5, 2, 7, 1, 3]\n",
    "smallest = find_smallest_number(numbers)\n",
    "print(f'The smallest number in the list is {smallest}')\n"
   ]
  },
  {
   "attachments": {},
   "cell_type": "markdown",
   "metadata": {},
   "source": [
    "4. Write a Python program to find largest number in a list?"
   ]
  },
  {
   "cell_type": "code",
   "execution_count": 8,
   "metadata": {},
   "outputs": [
    {
     "name": "stdout",
     "output_type": "stream",
     "text": [
      "The largest number in the list is 7\n"
     ]
    }
   ],
   "source": [
    "def find_largest_number(numbers):\n",
    "  # Set the initial value of the largest number to the first element in the list\n",
    "  largest = numbers[0]\n",
    "  \n",
    "  # Iterate over the rest of the elements in the list\n",
    "  for number in numbers[1:]:\n",
    "    # If the current number is smaller than the largest number we've seen so far, update the value of largest\n",
    "    if number > largest:\n",
    "      largest = number\n",
    "      \n",
    "  # Return the largest number\n",
    "  return largest\n",
    "\n",
    "# Test the function\n",
    "numbers = [5, 2, 7, 1, 3]\n",
    "largest = find_largest_number(numbers)\n",
    "print(f'The largest number in the list is {largest}')"
   ]
  },
  {
   "attachments": {},
   "cell_type": "markdown",
   "metadata": {},
   "source": [
    "5. Write a Python program to find second largest number in a list?"
   ]
  },
  {
   "cell_type": "code",
   "execution_count": 9,
   "metadata": {},
   "outputs": [
    {
     "name": "stdout",
     "output_type": "stream",
     "text": [
      "5\n"
     ]
    }
   ],
   "source": [
    "my_list = [7, 3, 5, 2, 1, 4]\n",
    "my_list.sort(reverse = True)\n",
    "print(my_list[1])\n"
   ]
  },
  {
   "attachments": {},
   "cell_type": "markdown",
   "metadata": {},
   "source": [
    "6. Write a Python program to find N largest elements from a list?"
   ]
  },
  {
   "cell_type": "code",
   "execution_count": 11,
   "metadata": {},
   "outputs": [
    {
     "data": {
      "text/plain": [
       "[7, 5, 4]"
      ]
     },
     "execution_count": 11,
     "metadata": {},
     "output_type": "execute_result"
    }
   ],
   "source": [
    "n = 3\n",
    "my_list = [7, 3, 5, 2, 1, 4]\n",
    "my_list.sort(reverse = True)\n",
    "my_list[:n]"
   ]
  },
  {
   "attachments": {},
   "cell_type": "markdown",
   "metadata": {},
   "source": [
    "7. Write a Python program to print even numbers in a list?"
   ]
  },
  {
   "cell_type": "code",
   "execution_count": 12,
   "metadata": {},
   "outputs": [
    {
     "name": "stdout",
     "output_type": "stream",
     "text": [
      "8 2 4 6 12 10 "
     ]
    }
   ],
   "source": [
    "my_list = [5, 8, 2, 4, 9, 3, 1, 7, 6, 12, 11, 10]\n",
    "for i in my_list:\n",
    "    if i %2 == 0 :\n",
    "        print(i , end = \" \")"
   ]
  },
  {
   "attachments": {},
   "cell_type": "markdown",
   "metadata": {},
   "source": [
    "8. Write a Python program to print odd numbers in a List?"
   ]
  },
  {
   "cell_type": "code",
   "execution_count": 14,
   "metadata": {},
   "outputs": [
    {
     "name": "stdout",
     "output_type": "stream",
     "text": [
      "5 9 3 1 7 11 "
     ]
    }
   ],
   "source": [
    "my_list = [5, 8, 2, 4, 9, 3, 1, 7, 6, 12, 11, 10]\n",
    "for i in my_list:\n",
    "    if i %2  == 1 :\n",
    "        print(i , end = \" \")"
   ]
  },
  {
   "attachments": {},
   "cell_type": "markdown",
   "metadata": {},
   "source": [
    "9. Write a Python program to Remove empty List from List?"
   ]
  },
  {
   "cell_type": "code",
   "execution_count": 15,
   "metadata": {},
   "outputs": [
    {
     "name": "stdout",
     "output_type": "stream",
     "text": [
      "The original list is [[], [1, 2, 3], [], [4, 5, 6], [], [7, 8, 9]]\n",
      "The list with empty lists removed is [[1, 2, 3], [4, 5, 6], [7, 8, 9]]\n"
     ]
    }
   ],
   "source": [
    "def remove_empty_lists(lst):\n",
    "  # Create a new list to store the non-empty lists\n",
    "  non_empty_lists = []\n",
    "  \n",
    "  # Iterate over the original list\n",
    "  for sublist in lst:\n",
    "    # If the sublist is not empty, append it to the new list\n",
    "    if sublist:\n",
    "      non_empty_lists.append(sublist)\n",
    "      \n",
    "  # Return the new list\n",
    "  return non_empty_lists\n",
    "\n",
    "# Test the function\n",
    "my_list = [[], [1, 2, 3], [], [4, 5, 6], [], [7, 8, 9]]\n",
    "non_empty_lists = remove_empty_lists(my_list)\n",
    "print(f'The original list is {my_list}')\n",
    "print(f'The list with empty lists removed is {non_empty_lists}')\n"
   ]
  },
  {
   "attachments": {},
   "cell_type": "markdown",
   "metadata": {},
   "source": [
    "10. Write a Python program to Cloning or Copying a list?"
   ]
  },
  {
   "cell_type": "code",
   "execution_count": 16,
   "metadata": {},
   "outputs": [
    {
     "name": "stdout",
     "output_type": "stream",
     "text": [
      "The original list is [1, 2, 3, 4, 5]\n",
      "The cloned list is [1, 2, 3, 4, 5]\n"
     ]
    }
   ],
   "source": [
    "def clone_list(lst):\n",
    "  # Use the list() function to create a new list and copy the elements from the original list\n",
    "  cloned_list = list(lst)\n",
    "  return cloned_list\n",
    "\n",
    "# Test the function\n",
    "original_list = [1, 2, 3, 4, 5]\n",
    "cloned_list = clone_list(original_list)\n",
    "print(f'The original list is {original_list}')\n",
    "print(f'The cloned list is {cloned_list}')\n"
   ]
  },
  {
   "attachments": {},
   "cell_type": "markdown",
   "metadata": {},
   "source": [
    "11. Write a Python program to Count occurrences of an element in a list?"
   ]
  },
  {
   "cell_type": "code",
   "execution_count": 23,
   "metadata": {},
   "outputs": [
    {
     "data": {
      "text/plain": [
       "{5: 1, 8: 1, 2: 1, 4: 1, 9: 1, 3: 1, 1: 1, 7: 1, 6: 1, 12: 1, 11: 1, 10: 1}"
      ]
     },
     "execution_count": 23,
     "metadata": {},
     "output_type": "execute_result"
    }
   ],
   "source": [
    "from collections import Counter\n",
    "my_list = [5, 8, 2, 4, 9, 3, 1, 7, 6, 12, 11, 10] \n",
    "counts = Counter(my_list) \n",
    "dict(counts) \n",
    "        "
   ]
  }
 ],
 "metadata": {
  "kernelspec": {
   "display_name": "Python 3",
   "language": "python",
   "name": "python3"
  },
  "language_info": {
   "codemirror_mode": {
    "name": "ipython",
    "version": 3
   },
   "file_extension": ".py",
   "mimetype": "text/x-python",
   "name": "python",
   "nbconvert_exporter": "python",
   "pygments_lexer": "ipython3",
   "version": "3.10.5"
  },
  "orig_nbformat": 4,
  "vscode": {
   "interpreter": {
    "hash": "aee8b7b246df8f9039afb4144a1f6fd8d2ca17a180786b69acc140d282b71a49"
   }
  }
 },
 "nbformat": 4,
 "nbformat_minor": 2
}
