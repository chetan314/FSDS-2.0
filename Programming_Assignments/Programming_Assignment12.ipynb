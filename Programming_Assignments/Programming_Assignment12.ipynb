{
 "cells": [
  {
   "attachments": {},
   "cell_type": "markdown",
   "metadata": {},
   "source": [
    "1. Write a Python program to Extract Unique values dictionary values?"
   ]
  },
  {
   "cell_type": "code",
   "execution_count": 9,
   "metadata": {},
   "outputs": [
    {
     "data": {
      "text/plain": [
       "['NY', 'USA', 'John Smith', 'New York', 30]"
      ]
     },
     "execution_count": 9,
     "metadata": {},
     "output_type": "execute_result"
    }
   ],
   "source": [
    "d = {\n",
    "    \"name\": \"John Smith\",\n",
    "    \"age\": 30,\n",
    "    \"city\": \"New York\",\n",
    "    \"state\": \"NY\",\n",
    "    \"country\": \"USA\"\n",
    "}\n",
    "\n",
    "list(set(d.values())) \n",
    "    "
   ]
  },
  {
   "attachments": {},
   "cell_type": "markdown",
   "metadata": {},
   "source": [
    "2. Write a Python program to find the sum of all items in a dictionary?"
   ]
  },
  {
   "cell_type": "code",
   "execution_count": 10,
   "metadata": {},
   "outputs": [
    {
     "name": "stdout",
     "output_type": "stream",
     "text": [
      "6\n"
     ]
    }
   ],
   "source": [
    "def sum_dict_items(dictionary):\n",
    "    # Initialize a variable to store the sum\n",
    "    sum = 0\n",
    "\n",
    "    # Iterate over the items in the dictionary\n",
    "    for key, value in dictionary.items():\n",
    "        # Check if the value is an integer or float\n",
    "        if isinstance(value, (int, float)):\n",
    "            # If it is, add it to the sum\n",
    "            sum += value\n",
    "        # If the value is not an integer or float, skip it\n",
    "        else:\n",
    "            continue\n",
    "\n",
    "    # Return the sum\n",
    "    return sum\n",
    "\n",
    "# Example usage\n",
    "my_dict = {'a': 1, 'b': 2, 'c': 3, 'd': 'hello'}\n",
    "result = sum_dict_items(my_dict)\n",
    "print(result)  # Output: 6\n"
   ]
  },
  {
   "attachments": {},
   "cell_type": "markdown",
   "metadata": {},
   "source": [
    "3. Write a Python program to Merging two Dictionaries?"
   ]
  },
  {
   "cell_type": "code",
   "execution_count": 15,
   "metadata": {},
   "outputs": [
    {
     "data": {
      "text/plain": [
       "{'name': 'John Smith',\n",
       " 'age': 30,\n",
       " 'city': 'New York',\n",
       " 'state': 'NY',\n",
       " 'country': 'USA',\n",
       " 'a': 1,\n",
       " 'b': 2,\n",
       " 'c': 3,\n",
       " 'd': 'hello'}"
      ]
     },
     "execution_count": 15,
     "metadata": {},
     "output_type": "execute_result"
    }
   ],
   "source": [
    "my_dict = {'a': 1, 'b': 2, 'c': 3, 'd': 'hello'}\n",
    "d = {\n",
    "    \"name\": \"John Smith\",\n",
    "    \"age\": 30,\n",
    "    \"city\": \"New York\",\n",
    "    \"state\": \"NY\",\n",
    "    \"country\": \"USA\"\n",
    "}\n",
    "d.update(my_dict)\n",
    "d"
   ]
  },
  {
   "attachments": {},
   "cell_type": "markdown",
   "metadata": {},
   "source": [
    "4. Write a Python program to convert key-values list to flat dictionary?"
   ]
  },
  {
   "cell_type": "code",
   "execution_count": 16,
   "metadata": {},
   "outputs": [
    {
     "name": "stdout",
     "output_type": "stream",
     "text": [
      "{'a': 1, 'b': 2, 'c': 3}\n"
     ]
    }
   ],
   "source": [
    "# key-value list\n",
    "key_value_list = [('a', 1), ('b', 2), ('c', 3)]\n",
    "\n",
    "# create an empty dictionary\n",
    "flat_dict = {}\n",
    "\n",
    "# iterate over the key-value pairs and add them to the dictionary\n",
    "for key, value in key_value_list:\n",
    "    flat_dict[key] = value\n",
    "\n",
    "print(flat_dict)  # Output: {'a': 1, 'b': 2, 'c': 3}\n"
   ]
  },
  {
   "attachments": {},
   "cell_type": "markdown",
   "metadata": {},
   "source": [
    "5. Write a Python program to insertion at the beginning in OrderedDict?"
   ]
  },
  {
   "cell_type": "code",
   "execution_count": 5,
   "metadata": {},
   "outputs": [
    {
     "name": "stdout",
     "output_type": "stream",
     "text": [
      "OrderedDict([('d', 4), ('a', 1), ('b', 2), ('c', 3)])\n",
      "OrderedDict([('e', 5), ('d', 4), ('a', 1), ('b', 2), ('c', 3)])\n"
     ]
    }
   ],
   "source": [
    "from collections import OrderedDict\n",
    "\n",
    "# create an OrderedDict\n",
    "d = OrderedDict([('a', 1), ('b', 2), ('c', 3)])\n",
    "\n",
    "# insert a new key-value pair at the beginning using update()\n",
    "d.update({'d': 4})\n",
    "d.move_to_end('d', last=0)\n",
    "\n",
    "print(d)  # Output: OrderedDict([('d', 4), ('a', 1), ('b', 2), ('c', 3)])\n",
    "\n",
    "# insert a new key-value pair at the beginning using assignment\n",
    "d['e'] = 5\n",
    "d.move_to_end('e', last=0)\n",
    "\n",
    "print(d)  # Output: OrderedDict([('e', 5), ('d', 4), ('a', 1), ('b', 2), ('c', 3)])\n"
   ]
  },
  {
   "attachments": {},
   "cell_type": "markdown",
   "metadata": {},
   "source": [
    "5. Write a Python program to insertion at the beginning in OrderedDict?"
   ]
  },
  {
   "cell_type": "code",
   "execution_count": 7,
   "metadata": {},
   "outputs": [
    {
     "name": "stdout",
     "output_type": "stream",
     "text": [
      "Resultant Dictionary :OrderedDict([('manjeet', '4'), ('akash', '4'), ('akshat', '1'), ('nikhil', '2')])\n"
     ]
    }
   ],
   "source": [
    "# Python code to demonstrate\n",
    "# insertion of items in beginning of ordered dict\n",
    "from collections import OrderedDict\n",
    "\n",
    "# initialising ordered_dict\n",
    "ini_dict1 = OrderedDict([('akshat', '1'), ('nikhil', '2')])\n",
    "ini_dict2 = OrderedDict([(\"manjeet\", '4'), (\"akash\", '4')])\n",
    "\n",
    "# adding in beginning of dict\n",
    "both = OrderedDict(list(ini_dict2.items()) + list(ini_dict1.items()))\n",
    "\n",
    "# print result\n",
    "print (\"Resultant Dictionary :\"+str(both))\n"
   ]
  },
  {
   "attachments": {},
   "cell_type": "markdown",
   "metadata": {},
   "source": [
    "6. Write a Python program to check order of character in string using OrderedDict()?"
   ]
  },
  {
   "cell_type": "code",
   "execution_count": 9,
   "metadata": {},
   "outputs": [
    {
     "name": "stdout",
     "output_type": "stream",
     "text": [
      "True\n",
      "False\n"
     ]
    }
   ],
   "source": [
    "from collections import OrderedDict\n",
    "\n",
    "def check_order(s):\n",
    "    # create an OrderedDict from the string\n",
    "    d = OrderedDict.fromkeys(s)\n",
    "\n",
    "    # check the order of characters\n",
    "    for i, c in enumerate(s):\n",
    "        if c in d:\n",
    "            if i > list(d.keys()).index(c):\n",
    "                return False\n",
    "    return True\n",
    "\n",
    "# test the function\n",
    "print(check_order('abcdefg'))  # Output: True\n",
    "print(check_order('abcba'))  # Output: False\n"
   ]
  },
  {
   "attachments": {},
   "cell_type": "markdown",
   "metadata": {},
   "source": [
    "7. Write a Python program to sort Python Dictionaries by Key or Value?"
   ]
  },
  {
   "cell_type": "code",
   "execution_count": 10,
   "metadata": {},
   "outputs": [
    {
     "name": "stdout",
     "output_type": "stream",
     "text": [
      "{'a': 1, 'b': 2, 'c': 3}\n"
     ]
    }
   ],
   "source": [
    "# sort a dictionary by key\n",
    "d = {'c': 3, 'a': 1, 'b': 2}\n",
    "sorted_dict = dict(sorted(d.items(), key=lambda x: x[0]))\n",
    "print(sorted_dict)  # Output: {'a': 1, 'b': 2, 'c': 3}\n"
   ]
  },
  {
   "cell_type": "code",
   "execution_count": null,
   "metadata": {},
   "outputs": [],
   "source": []
  }
 ],
 "metadata": {
  "kernelspec": {
   "display_name": "Python 3",
   "language": "python",
   "name": "python3"
  },
  "language_info": {
   "codemirror_mode": {
    "name": "ipython",
    "version": 3
   },
   "file_extension": ".py",
   "mimetype": "text/x-python",
   "name": "python",
   "nbconvert_exporter": "python",
   "pygments_lexer": "ipython3",
   "version": "3.10.5"
  },
  "orig_nbformat": 4,
  "vscode": {
   "interpreter": {
    "hash": "aee8b7b246df8f9039afb4144a1f6fd8d2ca17a180786b69acc140d282b71a49"
   }
  }
 },
 "nbformat": 4,
 "nbformat_minor": 2
}
