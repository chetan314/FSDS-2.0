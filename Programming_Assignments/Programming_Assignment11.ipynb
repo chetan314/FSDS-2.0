{
 "cells": [
  {
   "attachments": {},
   "cell_type": "markdown",
   "metadata": {},
   "source": [
    "1. Write a Python program to find words which are greater than given length k?\n"
   ]
  },
  {
   "cell_type": "code",
   "execution_count": 1,
   "metadata": {},
   "outputs": [
    {
     "name": "stdout",
     "output_type": "stream",
     "text": [
      "ohaidosh\n",
      "uoaiu\n",
      "ououo\n",
      "0awe0\n",
      "0qusdf\n"
     ]
    }
   ],
   "source": [
    "s = 'oifa o oq o q8u9 ohaidosh  uoaiu u9 080 ououo ia0 0u 0awe0 0ewq 0 0qusdf'\n",
    "def func1(n,s):\n",
    "    l = s.split(\" \")\n",
    "    for word in l:\n",
    "        if len(word) > n :\n",
    "            print(word)\n",
    "func1(4,s)\n"
   ]
  },
  {
   "attachments": {},
   "cell_type": "markdown",
   "metadata": {},
   "source": [
    "2. Write a Python program for removing i-th character from a string?"
   ]
  },
  {
   "cell_type": "code",
   "execution_count": 6,
   "metadata": {},
   "outputs": [
    {
     "data": {
      "text/plain": [
       "'1235678'"
      ]
     },
     "execution_count": 6,
     "metadata": {},
     "output_type": "execute_result"
    }
   ],
   "source": [
    "def func2(k,s):\n",
    "    return s[:k-1] + s[k:]\n",
    "st = '12345678'\n",
    "func2(4,st)"
   ]
  },
  {
   "cell_type": "markdown",
   "metadata": {},
   "source": [
    "3. Write a Python program to split and join a string?"
   ]
  },
  {
   "cell_type": "code",
   "execution_count": 9,
   "metadata": {},
   "outputs": [
    {
     "data": {
      "text/plain": [
       "'Hi_how_are_you_doing'"
      ]
     },
     "execution_count": 9,
     "metadata": {},
     "output_type": "execute_result"
    }
   ],
   "source": [
    "s = 'Hi how are you doing'\n",
    "l = s.split(' ')\n",
    "('_').join(l)"
   ]
  },
  {
   "attachments": {},
   "cell_type": "markdown",
   "metadata": {},
   "source": [
    "4. Write a Python to check if a given string is binary string or not?"
   ]
  },
  {
   "cell_type": "code",
   "execution_count": 10,
   "metadata": {},
   "outputs": [
    {
     "name": "stdout",
     "output_type": "stream",
     "text": [
      "True\n",
      "False\n",
      "True\n",
      "False\n"
     ]
    }
   ],
   "source": [
    "def is_binary_string(s):\n",
    "    for c in s:\n",
    "        if c != '0' and c != '1':\n",
    "            return False\n",
    "    return True\n",
    "\n",
    "# Test the function\n",
    "print(is_binary_string('10101'))  # True\n",
    "print(is_binary_string('12345'))  # False\n",
    "print(is_binary_string('01010101'))  # True\n",
    "print(is_binary_string('0101010101a'))  # False\n"
   ]
  },
  {
   "attachments": {},
   "cell_type": "markdown",
   "metadata": {},
   "source": [
    "5. Write a Python program to find uncommon words from two Strings?"
   ]
  },
  {
   "cell_type": "code",
   "execution_count": 11,
   "metadata": {},
   "outputs": [
    {
     "name": "stdout",
     "output_type": "stream",
     "text": [
      "['fox', 'cat']\n",
      "['pear', 'banana']\n"
     ]
    }
   ],
   "source": [
    "def uncommon_words(s1, s2):\n",
    "    # Split the strings into lists of words\n",
    "    words1 = s1.split()\n",
    "    words2 = s2.split()\n",
    "    \n",
    "    # Find the words that are in one list, but not the other\n",
    "    uncommon_words = [w for w in words1 if w not in words2] + [w for w in words2 if w not in words1]\n",
    "    \n",
    "    return uncommon_words\n",
    "\n",
    "# Test the function\n",
    "print(uncommon_words('the quick brown fox', 'the quick brown cat'))  # ['fox', 'cat']\n",
    "print(uncommon_words('apple pear bear', 'apple bear banana'))  # ['pear', 'banana']\n"
   ]
  },
  {
   "attachments": {},
   "cell_type": "markdown",
   "metadata": {},
   "source": [
    "6. Write a Python to find all duplicate characters in string?"
   ]
  },
  {
   "cell_type": "code",
   "execution_count": 12,
   "metadata": {},
   "outputs": [
    {
     "name": "stdout",
     "output_type": "stream",
     "text": [
      "['l']\n",
      "[]\n",
      "[' ', 'o']\n",
      "['a', 'b', 'c', 'd', 'e', 'f', 'g', 'h', 'i', 'j', 'k', 'l', 'm', 'n', 'o', 'p', 'q', 'r', 's', 't', 'u', 'v', 'w', 'x', 'y', 'z']\n"
     ]
    }
   ],
   "source": [
    "def find_duplicate_chars(s):\n",
    "    # Create an empty list to store the duplicate characters\n",
    "    duplicates = []\n",
    "    \n",
    "    # For each character in the string,\n",
    "    for c in s:\n",
    "        # If the character appears more than once in the string,\n",
    "        if s.count(c) > 1:\n",
    "            # If it's not already in the list of duplicates,\n",
    "            if c not in duplicates:\n",
    "                # Add it to the list\n",
    "                duplicates.append(c)\n",
    "    \n",
    "    return duplicates\n",
    "\n",
    "# Test the function\n",
    "print(find_duplicate_chars('hello'))  # ['l']\n",
    "print(find_duplicate_chars('abcdefghijklmnopqrstuvwxyz'))  # []\n",
    "print(find_duplicate_chars('the quick brown fox'))  # ['t', 'h', 'e', ' ']\n",
    "print(find_duplicate_chars('aabbccddeeffgghhiijjkkllmmnnooppqqrrssttuuvvwwxxyyzz'))  # ['a', 'b', 'c', 'd', 'e', 'f', 'g', 'h', 'i', 'j', 'k', 'l', 'm', 'n', 'o', 'p', 'q', 'r', 's', 't', 'u', 'v', 'w', 'x', 'y', 'z']\n"
   ]
  },
  {
   "attachments": {},
   "cell_type": "markdown",
   "metadata": {},
   "source": [
    "7. Write a Python Program to check if a string contains any special character?"
   ]
  },
  {
   "cell_type": "code",
   "execution_count": 13,
   "metadata": {},
   "outputs": [
    {
     "name": "stdout",
     "output_type": "stream",
     "text": [
      "False\n",
      "True\n",
      "True\n",
      "True\n"
     ]
    }
   ],
   "source": [
    "def has_special_char(s):\n",
    "    # Check if any character in the string is not alphabetic or numeric\n",
    "    return any(not c.isalnum() for c in s)\n",
    "\n",
    "# Test the function\n",
    "print(has_special_char('abc123'))  # False\n",
    "print(has_special_char('abc123!'))  # True\n",
    "print(has_special_char('abc@123'))  # True\n",
    "print(has_special_char('abc 123'))  # False\n"
   ]
  },
  {
   "cell_type": "code",
   "execution_count": null,
   "metadata": {},
   "outputs": [],
   "source": []
  }
 ],
 "metadata": {
  "kernelspec": {
   "display_name": "Python 3",
   "language": "python",
   "name": "python3"
  },
  "language_info": {
   "codemirror_mode": {
    "name": "ipython",
    "version": 3
   },
   "file_extension": ".py",
   "mimetype": "text/x-python",
   "name": "python",
   "nbconvert_exporter": "python",
   "pygments_lexer": "ipython3",
   "version": "3.10.5"
  },
  "orig_nbformat": 4,
  "vscode": {
   "interpreter": {
    "hash": "aee8b7b246df8f9039afb4144a1f6fd8d2ca17a180786b69acc140d282b71a49"
   }
  }
 },
 "nbformat": 4,
 "nbformat_minor": 2
}
