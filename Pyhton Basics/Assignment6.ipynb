{
 "cells": [
  {
   "attachments": {},
   "cell_type": "markdown",
   "metadata": {},
   "source": [
    "1. What are escape characters, and how do you use them?\n",
    "2. What do the escape characters n and t stand for?\n",
    "3. What is the way to include backslash characters in a string?"
   ]
  },
  {
   "attachments": {},
   "cell_type": "markdown",
   "metadata": {},
   "source": [
    "Escape characters are special characters in Python that are used to represent certain whitespace characters or non-printable characters. They are used in strings to represent characters that are not normally printable, or to represent characters that are normally interpreted as special characters.\n",
    "\n",
    "There are several escape characters in Python, including:\n",
    "\n",
    "\\n: This represents a newline character. When a string contains this character, it is printed on a new line.\n",
    "\n",
    "\\t: This represents a tab character. When a string contains this character, it is printed with an indentation.\n",
    "\n",
    "\\\\: This represents a backslash character. When a string contains this character, it is printed as a backslash.\n",
    "\n",
    "\\': This represents a single quote character. When a string contains this character, it is printed as a single quote.\n",
    "\n",
    "\\\": This represents a double quote character. When a string contains this character, it is printed as a double quote.\n",
    "\n",
    "To use escape characters in a string, you need to prefix them with a backslash (\\). For example:\n",
    "\n"
   ]
  },
  {
   "cell_type": "code",
   "execution_count": 3,
   "metadata": {},
   "outputs": [
    {
     "name": "stdout",
     "output_type": "stream",
     "text": [
      "This is a newline character: \n",
      "\n",
      "This is a tab character: \t .\n",
      "This is a backslash character: \\.\n",
      "This is a single quote character: '.\n",
      "This is a double quote character: \".\n"
     ]
    }
   ],
   "source": [
    "print(\"This is a newline character: \\n\")\n",
    "\n",
    "\n",
    "print(\"This is a tab character: \\t .\")\n",
    "   \n",
    "\n",
    "print(\"This is a backslash character: \\\\.\")\n",
    "\n",
    "\n",
    "print(\"This is a single quote character: \\'.\")\n",
    "\n",
    "\n",
    "print(\"This is a double quote character: \\\".\")\n",
    "\n"
   ]
  },
  {
   "attachments": {},
   "cell_type": "markdown",
   "metadata": {},
   "source": [
    "4. The string &quot;Howl&#39;s Moving Castle&quot; is a correct value. Why isn&#39;t the single quote character in the\n",
    "word Howl&#39;s not escaped a problem?\n",
    "\n",
    "Because it is wrapped in double quotes "
   ]
  },
  {
   "attachments": {},
   "cell_type": "markdown",
   "metadata": {},
   "source": [
    "6. What are the values of the given expressions?\n",
    "&#39;Hello, world!&#39;[1]\n",
    "&#39;Hello, world!&#39;[0:5]\n",
    "&#39;Hello, world!&#39;[:5]\n",
    "&#39;Hello, world!&#39;[3:]"
   ]
  },
  {
   "cell_type": "code",
   "execution_count": 5,
   "metadata": {},
   "outputs": [
    {
     "name": "stdout",
     "output_type": "stream",
     "text": [
      "e\n",
      "Hello\n",
      "Hello\n",
      "lo, world!\n"
     ]
    }
   ],
   "source": [
    "print('Hello, world!'[1]) #e\n",
    "print('Hello, world!'[0:5]) # Hello\n",
    "print('Hello, world!'[:5])  # Hello\n",
    "print('Hello, world!'[3:]) # lo, world!\n"
   ]
  },
  {
   "attachments": {},
   "cell_type": "markdown",
   "metadata": {},
   "source": [
    "7. What are the values of the following expressions?\n",
    "\n",
    "&#39;Hello&#39;.upper()\n",
    "\n",
    "&#39;Hello&#39;.upper().isupper()\n",
    "\n",
    "&#39;Hello&#39;.upper().lower()"
   ]
  },
  {
   "cell_type": "code",
   "execution_count": 6,
   "metadata": {},
   "outputs": [
    {
     "name": "stdout",
     "output_type": "stream",
     "text": [
      "HELLO\n",
      "True\n",
      "hello\n"
     ]
    }
   ],
   "source": [
    "print('Hello'.upper()) #HELLO\n",
    "print('Hello'.upper().isupper()) #True\n",
    "print('Hello'.upper().lower()) #hello"
   ]
  },
  {
   "attachments": {},
   "cell_type": "markdown",
   "metadata": {},
   "source": [
    "8. What are the values of the following expressions?\n",
    "\n",
    "&#39;Remember, remember, the fifth of July.&#39;.split()\n",
    "\n",
    "&#39;-&#39;.join(&#39;There can only one.&#39;.split())"
   ]
  },
  {
   "cell_type": "code",
   "execution_count": 7,
   "metadata": {},
   "outputs": [
    {
     "name": "stdout",
     "output_type": "stream",
     "text": [
      "['Remember,', 'remember,', 'the', 'fifth', 'of', 'July.']\n",
      "There_can_only_one\n"
     ]
    }
   ],
   "source": [
    "print('Remember, remember, the fifth of July.'.split()) # ['Remember,', 'remember,', 'the', 'fifth', 'of', 'July.']\n",
    "print('_'.join('There can only one'.split()))  #There_can_only_one\n"
   ]
  },
  {
   "attachments": {},
   "cell_type": "markdown",
   "metadata": {},
   "source": [
    "9. What are the methods for right-justifying, left-justifying, and centering a string?"
   ]
  },
  {
   "attachments": {},
   "cell_type": "markdown",
   "metadata": {},
   "source": [
    "In Python, you can use the ljust(), rjust(), and center() methods to right-justify, left-justify, and center a string, respectively. These methods are available on the built-in str class, and they allow you to specify the width of the resulting string, as well as the character to use for padding."
   ]
  },
  {
   "cell_type": "code",
   "execution_count": 10,
   "metadata": {},
   "outputs": [
    {
     "name": "stdout",
     "output_type": "stream",
     "text": [
      "-----hello\n",
      "hello-----\n",
      "--hello---\n"
     ]
    }
   ],
   "source": [
    "# Right-justify a string using the '-' character for padding\n",
    "s = \"hello\"\n",
    "s = s.rjust(10, '-')\n",
    "print(s)\n",
    "\n",
    "\n",
    "# Left-justify a string using the '-' character for padding\n",
    "s = \"hello\"\n",
    "s = s.ljust(10, '-')\n",
    "print(s)\n",
    "\n",
    "\n",
    "# Center a string using the '-' character for padding\n",
    "s = \"hello\"\n",
    "s = s.center(10, '-')\n",
    "print(s)\n",
    "\n"
   ]
  },
  {
   "attachments": {},
   "cell_type": "markdown",
   "metadata": {},
   "source": [
    "10. What is the best way to remove whitespace characters from the start or end?"
   ]
  },
  {
   "attachments": {},
   "cell_type": "markdown",
   "metadata": {},
   "source": [
    "The lstrip() and rstrip() methods remove whitesapce characters from the left and right ends of a string respectively"
   ]
  }
 ],
 "metadata": {
  "kernelspec": {
   "display_name": "Python 3",
   "language": "python",
   "name": "python3"
  },
  "language_info": {
   "codemirror_mode": {
    "name": "ipython",
    "version": 3
   },
   "file_extension": ".py",
   "mimetype": "text/x-python",
   "name": "python",
   "nbconvert_exporter": "python",
   "pygments_lexer": "ipython3",
   "version": "3.10.5"
  },
  "orig_nbformat": 4,
  "vscode": {
   "interpreter": {
    "hash": "aee8b7b246df8f9039afb4144a1f6fd8d2ca17a180786b69acc140d282b71a49"
   }
  }
 },
 "nbformat": 4,
 "nbformat_minor": 2
}
