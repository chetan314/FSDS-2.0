{
 "cells": [
  {
   "attachments": {},
   "cell_type": "markdown",
   "metadata": {},
   "source": [
    "### Q1 What is the purpose of Pyhton's OOP ? "
   ]
  },
  {
   "cell_type": "code",
   "execution_count": 3,
   "metadata": {},
   "outputs": [
    {
     "data": {
      "text/plain": [
       "\"The purpose of Python's Object-Oriented Programming (OOP) is to provide a way to structure and organize code, by modeling real-world objects and their attributes and behaviors. OOP enables code reusability, abstraction, and encapsulation.\""
      ]
     },
     "execution_count": 3,
     "metadata": {},
     "output_type": "execute_result"
    }
   ],
   "source": [
    "\"\"\"The purpose of Python's Object-Oriented Programming (OOP) is to provide a way to structure and organize code, by modeling real-world objects and their attributes and behaviors. OOP enables code reusability, abstraction, and encapsulation.\"\"\""
   ]
  },
  {
   "attachments": {},
   "cell_type": "markdown",
   "metadata": {},
   "source": [
    "### Q2 Where does an inheritance search look for an attribute?"
   ]
  },
  {
   "cell_type": "code",
   "execution_count": 4,
   "metadata": {},
   "outputs": [
    {
     "data": {
      "text/plain": [
       "\"when looking for an attribute in an inheritance hierarchy, the search starts with the current object's class. If the attribute is not found there, the search moves up the hierarchy to the parent class, and continues until the attribute is found or the search reaches the base object class\""
      ]
     },
     "execution_count": 4,
     "metadata": {},
     "output_type": "execute_result"
    }
   ],
   "source": [
    "\"\"\"when looking for an attribute in an inheritance hierarchy, the search starts with the current object's class. If the attribute is not found there, the search moves up the hierarchy to the parent class, and continues until the attribute is found or the search reaches the base object class\"\"\""
   ]
  },
  {
   "attachments": {},
   "cell_type": "markdown",
   "metadata": {},
   "source": [
    "### Q3. How do you distinguish between a class object and an instance object?"
   ]
  },
  {
   "attachments": {},
   "cell_type": "markdown",
   "metadata": {},
   "source": [
    "Class Obj - Its a blueprint for creating objects or instances \n",
    "\n",
    "Instance obj - Its created from a class and represents an object specifically "
   ]
  },
  {
   "cell_type": "code",
   "execution_count": 6,
   "metadata": {},
   "outputs": [
    {
     "name": "stdout",
     "output_type": "stream",
     "text": [
      "<class 'type'>\n",
      "<class '__main__.Car'>\n"
     ]
    }
   ],
   "source": [
    "class Car:\n",
    "    wheels = 4\n",
    "\n",
    "\n",
    "print(type(Car)) # Class object\n",
    "\n",
    "my_car = Car()\n",
    "print(type(my_car)) # Instance object"
   ]
  },
  {
   "attachments": {},
   "cell_type": "markdown",
   "metadata": {},
   "source": [
    "### Q4. What makes the first argument in a class’s method function special?"
   ]
  },
  {
   "cell_type": "code",
   "execution_count": 7,
   "metadata": {},
   "outputs": [
    {
     "data": {
      "text/plain": [
       "'In Python, the first argument in a class method function is typically named self and it is considered special because it refers to the instance of the object the method was called on. This allows methods to access and modify the attributes and behaviors of the specific instance, making the method operate on a specific object rather than the class as a whole.'"
      ]
     },
     "execution_count": 7,
     "metadata": {},
     "output_type": "execute_result"
    }
   ],
   "source": [
    "\"\"\"In Python, the first argument in a class method function is typically named self and it is considered special because it refers to the instance of the object the method was called on. This allows methods to access and modify the attributes and behaviors of the specific instance, making the method operate on a specific object rather than the class as a whole.\"\"\""
   ]
  },
  {
   "attachments": {},
   "cell_type": "markdown",
   "metadata": {},
   "source": [
    "### Q5. What is the purpose of the __init__ method?"
   ]
  },
  {
   "cell_type": "code",
   "execution_count": 8,
   "metadata": {},
   "outputs": [
    {
     "data": {
      "text/plain": [
       "\"The __init__ method in Python is a special method that is automatically called when an object of a class is created. It is also known as a constructor. The purpose of the __init__ method is to initialize the attributes of the object and set the state of the object at the time of its creation.\\n\\nThe __init__ method takes self as the first argument, which refers to the instance being created, and additional arguments can be passed to initialize the object's attributes.\\n\\nFor example:\""
      ]
     },
     "execution_count": 8,
     "metadata": {},
     "output_type": "execute_result"
    }
   ],
   "source": [
    "\"\"\"The __init__ method in Python is a special method that is automatically called when an object of a class is created. It is also known as a constructor. The purpose of the __init__ method is to initialize the attributes of the object and set the state of the object at the time of its creation.\n",
    "\n",
    "The __init__ method takes self as the first argument, which refers to the instance being created, and additional arguments can be passed to initialize the object's attributes.\n",
    "\n",
    "For example:\"\"\""
   ]
  },
  {
   "attachments": {},
   "cell_type": "markdown",
   "metadata": {},
   "source": [
    "### Q6. What is the process for creating a class instance?"
   ]
  },
  {
   "cell_type": "code",
   "execution_count": 9,
   "metadata": {},
   "outputs": [
    {
     "data": {
      "text/plain": [
       "\"The process for creating an instance of a class in Python involves the following steps:\\n\\nDefine a class using the class keyword and specify its attributes and behaviors using methods.\\n\\nCall the class as a function to create an instance. The class acts as a blueprint for creating objects and the instance is a specific occurrence of the class.\\n\\nInitialize the attributes of the instance using the __init__ method, which is called automatically when the instance is created. The __init__ method takes self as the first argument, which refers to the instance being created. Additional arguments can be passed to initialize the instance's attributes.\""
      ]
     },
     "execution_count": 9,
     "metadata": {},
     "output_type": "execute_result"
    }
   ],
   "source": [
    "\"\"\"The process for creating an instance of a class in Python involves the following steps:\n",
    "\n",
    "Define a class using the class keyword and specify its attributes and behaviors using methods.\n",
    "\n",
    "Call the class as a function to create an instance. The class acts as a blueprint for creating objects and the instance is a specific occurrence of the class.\n",
    "\n",
    "Initialize the attributes of the instance using the __init__ method, which is called automatically when the instance is created. The __init__ method takes self as the first argument, which refers to the instance being created. Additional arguments can be passed to initialize the instance's attributes.\"\"\""
   ]
  },
  {
   "attachments": {},
   "cell_type": "markdown",
   "metadata": {},
   "source": [
    "### Q.7 What is the process for creating a class?"
   ]
  },
  {
   "cell_type": "code",
   "execution_count": 11,
   "metadata": {},
   "outputs": [
    {
     "data": {
      "text/plain": [
       "\"The process for creating a class in Python involves the following steps:\\n\\nUse the class keyword to define a class and give it a name.\\n\\nDefine class-level attributes within the class definition. Class-level attributes are shared by all instances of the class and are defined outside of any methods.\\n\\nDefine instance-level attributes using the __init__ method. The __init__ method is a special method called the constructor that is automatically called when an object of the class is created. The __init__ method takes self as the first argument, which refers to the instance being created, and additional arguments can be passed to initialize the instance's attributes.\\n\\nDefine methods within the class to specify the behaviors of the class. Methods take self as the first argument, which refers to the instance that the method is being called on.\""
      ]
     },
     "execution_count": 11,
     "metadata": {},
     "output_type": "execute_result"
    }
   ],
   "source": [
    "\"\"\"The process for creating a class in Python involves the following steps:\n",
    "\n",
    "Use the class keyword to define a class and give it a name.\n",
    "\n",
    "Define class-level attributes within the class definition. Class-level attributes are shared by all instances of the class and are defined outside of any methods.\n",
    "\n",
    "Define instance-level attributes using the __init__ method. The __init__ method is a special method called the constructor that is automatically called when an object of the class is created. The __init__ method takes self as the first argument, which refers to the instance being created, and additional arguments can be passed to initialize the instance's attributes.\n",
    "\n",
    "Define methods within the class to specify the behaviors of the class. Methods take self as the first argument, which refers to the instance that the method is being called on.\"\"\""
   ]
  },
  {
   "attachments": {},
   "cell_type": "markdown",
   "metadata": {},
   "source": [
    "### Q8. How would you define the superclasses of a class?"
   ]
  },
  {
   "cell_type": "code",
   "execution_count": 12,
   "metadata": {},
   "outputs": [
    {
     "data": {
      "text/plain": [
       "'A superclass of a class in Python is a class from which the current class inherits its attributes and methods.'"
      ]
     },
     "execution_count": 12,
     "metadata": {},
     "output_type": "execute_result"
    }
   ],
   "source": [
    "\"\"\"A superclass of a class in Python is a class from which the current class inherits its attributes and methods.\"\"\""
   ]
  },
  {
   "cell_type": "code",
   "execution_count": null,
   "metadata": {},
   "outputs": [],
   "source": []
  }
 ],
 "metadata": {
  "kernelspec": {
   "display_name": "Python 3",
   "language": "python",
   "name": "python3"
  },
  "language_info": {
   "codemirror_mode": {
    "name": "ipython",
    "version": 3
   },
   "file_extension": ".py",
   "mimetype": "text/x-python",
   "name": "python",
   "nbconvert_exporter": "python",
   "pygments_lexer": "ipython3",
   "version": "3.9.6"
  },
  "orig_nbformat": 4,
  "vscode": {
   "interpreter": {
    "hash": "31f2aee4e71d21fbe5cf8b01ff0e069b9275f58929596ceb00d14d90e3e16cd6"
   }
  }
 },
 "nbformat": 4,
 "nbformat_minor": 2
}
